{
 "cells": [
  {
   "cell_type": "code",
   "execution_count": 5,
   "id": "3fdb9590",
   "metadata": {},
   "outputs": [
    {
     "name": "stdout",
     "output_type": "stream",
     "text": [
      "Enter num1:\n",
      "7456\n",
      "Enter num2:\n",
      "576\n",
      "Enter operator: +,-,*, /\n",
      "-\n",
      "Invalid input\n"
     ]
    }
   ],
   "source": [
    "#CALCULATOR IN PYTHON\n",
    "\n",
    "print(\"Enter num1:\")\n",
    "\n",
    "num1=int(input())\n",
    "\n",
    "print(\"Enter num2:\")\n",
    "\n",
    "num2=int(input())\n",
    "\n",
    "print(\"Enter operator: +,-,*, /\")\n",
    "\n",
    "op=input()\n",
    "\n",
    "if num1==43 and num2==3 and op==\"*\":\n",
    "\n",
    "    print(\"555\")\n",
    "\n",
    "elif num1==56 and num2==9 and op==\"+\":\n",
    "\n",
    "    print(\"77\")\n",
    "\n",
    "elif num1==56 and num2==6 and op==\"/\":\n",
    "\n",
    "    print(\"4\")\n",
    "\n",
    "elif op==\"+\":\n",
    "\n",
    "    print(num1 + num2)\n",
    "\n",
    "elif op==\"*\":\n",
    "\n",
    "    print(num1 * num2)\n",
    "\n",
    "elif op==\"/\":\n",
    "\n",
    "    print(num1 / num2)\n",
    "\n",
    "else:\n",
    "\n",
    "    print(\"Invalid input\")"
   ]
  },
  {
   "cell_type": "code",
   "execution_count": null,
   "id": "eae27a95",
   "metadata": {},
   "outputs": [],
   "source": []
  },
  {
   "cell_type": "code",
   "execution_count": null,
   "id": "0029598c",
   "metadata": {},
   "outputs": [],
   "source": []
  }
 ],
 "metadata": {
  "kernelspec": {
   "display_name": "Python 3 (ipykernel)",
   "language": "python",
   "name": "python3"
  },
  "language_info": {
   "codemirror_mode": {
    "name": "ipython",
    "version": 3
   },
   "file_extension": ".py",
   "mimetype": "text/x-python",
   "name": "python",
   "nbconvert_exporter": "python",
   "pygments_lexer": "ipython3",
   "version": "3.9.12"
  }
 },
 "nbformat": 4,
 "nbformat_minor": 5
}
